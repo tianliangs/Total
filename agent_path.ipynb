{
 "cells": [
  {
   "cell_type": "code",
   "execution_count": null,
   "metadata": {},
   "outputs": [],
   "source": [
    "import numpy as np\n",
    "import pandas as pd\n",
    "\n",
    "def get_agent_path_table(agent_data, new_od_dis):\n",
    "    # 保留所需的代理信息列\n",
    "    agent_data = agent_data[['trip_id', 'ids', 'O', 'D', 'date', 'start_step']].copy()\n",
    "\n",
    "    # 合并数据\n",
    "    merge_data = pd.merge(agent_data, new_od_dis, left_on=['O', 'D'], right_on=['station_id_x', 'station_id_y'])\n",
    "\n",
    "    # 预计算每个组的累积概率\n",
    "    merge_data['cumulative_probability'] = merge_data.groupby(['trip_id', 'ids', 'O', 'D'])['probability'].cumsum()\n",
    "\n",
    "    # 定义向量化的抽样函数\n",
    "    def vectorized_sample(group):\n",
    "        if group.empty:\n",
    "            return None  # 如果组是空的，返回None或适当的默认值\n",
    "        rand_num = np.random.rand()\n",
    "        chosen_idx = group['cumulative_probability'].searchsorted(rand_num, side='right')\n",
    "        if chosen_idx >= len(group):\n",
    "            return None  # 防止chosen_idx超出数组边界\n",
    "        return group.iloc[chosen_idx]\n",
    "\n",
    "    # 应用向量化抽样\n",
    "    sampled_paths = merge_data.groupby(['trip_id', 'ids', 'O', 'D']).apply(vectorized_sample).reset_index(drop=True)\n",
    "\n",
    "    # 过滤掉因为空组或其他原因返回None的行\n",
    "    sampled_paths = sampled_paths.dropna()\n",
    "\n",
    "    # 选择需要的列并重命名\n",
    "    result_columns = ['trip_id', 'ids', 'O', 'D', 'date', 'start_step', 'edge_id', 'cumsumlength']\n",
    "    final_result = sampled_paths[result_columns].rename(columns={'edge_id': 'path'})\n",
    "\n",
    "    return final_result\n"
   ]
  }
 ],
 "metadata": {
  "language_info": {
   "name": "python"
  }
 },
 "nbformat": 4,
 "nbformat_minor": 2
}
